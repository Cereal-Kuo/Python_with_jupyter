{
 "cells": [
  {
   "cell_type": "markdown",
   "id": "81cf1c0e",
   "metadata": {},
   "source": [
    "### 兩種Reverse的解法\n",
    "下面為使用python兩種reverse的解法，其中一種使用工具reverse，後者以數學方法為主，透過2^31作為(32 bit的整數計算)"
   ]
  },
  {
   "cell_type": "code",
   "execution_count": 1,
   "id": "d84bc209",
   "metadata": {},
   "outputs": [],
   "source": [
    "def reverse(x):\n",
    "    y = list(str(x))\n",
    "    y.reverse()\n",
    "    return int(\"\".join(y))"
   ]
  },
  {
   "cell_type": "code",
   "execution_count": 29,
   "id": "69aef40c",
   "metadata": {
    "collapsed": true
   },
   "outputs": [
    {
     "ename": "AttributeError",
     "evalue": "'list' object has no attribute 'merge'",
     "output_type": "error",
     "traceback": [
      "\u001b[1;31m---------------------------------------------------------------------------\u001b[0m",
      "\u001b[1;31mAttributeError\u001b[0m                            Traceback (most recent call last)",
      "\u001b[1;32m<ipython-input-29-86b629144c16>\u001b[0m in \u001b[0;36m<module>\u001b[1;34m\u001b[0m\n\u001b[1;32m----> 1\u001b[1;33m \u001b[0my\u001b[0m\u001b[1;33m.\u001b[0m\u001b[0mmerge\u001b[0m\u001b[1;33m(\u001b[0m\u001b[1;33m)\u001b[0m\u001b[1;33m\u001b[0m\u001b[1;33m\u001b[0m\u001b[0m\n\u001b[0m",
      "\u001b[1;31mAttributeError\u001b[0m: 'list' object has no attribute 'merge'"
     ]
    }
   ],
   "source": [
    "class Solution:\n",
    "    def reverse(self, x: int) -> int:\n",
    "        # Turn the attribute to the positive\n",
    "        sign_multiplier = 1\n",
    "        if x < 0: \n",
    "            sign_multiplier = -1\n",
    "            x = x * sign_multiplier\n",
    "        # assign the result parameter\n",
    "        result = 0\n",
    "        # signed 32-bit integer\n",
    "        min_int_32 = 2 ** 31\n",
    "        while x > 0:\n",
    "            # Add the current digit into result\n",
    "            # x % 10 is equal to the last digit\n",
    "            result = result * 10 + x % 10\n",
    "            \n",
    "            # Check if the result is within MaxInt32 and MinInt32 bounds\n",
    "            if result * sign_multiplier <= -min_int_32 or result * sign_multiplier >= min_int_32-1:\n",
    "                return 0\n",
    "            x = x // 10\n",
    "\n",
    "        # Restore to original sign of number (+ or -)\n",
    "        return sign_multiplier * result\n",
    "        "
   ]
  }
 ],
 "metadata": {
  "kernelspec": {
   "display_name": "Python 3",
   "language": "python",
   "name": "python3"
  },
  "language_info": {
   "codemirror_mode": {
    "name": "ipython",
    "version": 3
   },
   "file_extension": ".py",
   "mimetype": "text/x-python",
   "name": "python",
   "nbconvert_exporter": "python",
   "pygments_lexer": "ipython3",
   "version": "3.8.10"
  }
 },
 "nbformat": 4,
 "nbformat_minor": 5
}
