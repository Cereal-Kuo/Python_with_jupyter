{
 "cells": [
  {
   "cell_type": "markdown",
   "id": "feed6ec1",
   "metadata": {},
   "source": [
    "* 簡述: 這是個人將自己所學稍作總結，若有任何誤解歡迎於下方留言提供建議修改。"
   ]
  },
  {
   "cell_type": "markdown",
   "id": "882b43c8",
   "metadata": {},
   "source": [
    "### 前言\n",
    "Python中多數的內容都是物件，從單純的資料至函式，於是為了拓展更多更深的內容我們可以透過類別方法(Class)來拓展。\n",
    "下面透過一個簡單的圓形計算類別(內含物件方法method)進行呼叫。"
   ]
  },
  {
   "cell_type": "code",
   "execution_count": 2,
   "id": "bf75220c",
   "metadata": {},
   "outputs": [
    {
     "name": "stdout",
     "output_type": "stream",
     "text": [
      "78.539815\n",
      "3.1415926\n"
     ]
    }
   ],
   "source": [
    "\"\"\"\n",
    "以下為引用的Circle_Cal Class內容\n",
    "_______________________________\n",
    "class Circle_Cal:\n",
    "    pi = 3.1415926\n",
    "    def __init__(self, radius):\n",
    "        self.radius = radius\n",
    "    def area(self):\n",
    "        return self.radius * self.radius * Circle_Cal.pi\n",
    "\"\"\"\n",
    "# 這是jp的格式需求\n",
    "from Circle_Cal import Circle_Cal\n",
    "# 建立類別物件\n",
    "c = Circle_Cal(5)\n",
    "# 呼叫方法類別\n",
    "print(c.area())\n",
    "# 呼叫類別內物件\n",
    "print(c.pi)"
   ]
  }
 ],
 "metadata": {
  "kernelspec": {
   "display_name": "Python 3",
   "language": "python",
   "name": "python3"
  },
  "language_info": {
   "codemirror_mode": {
    "name": "ipython",
    "version": 3
   },
   "file_extension": ".py",
   "mimetype": "text/x-python",
   "name": "python",
   "nbconvert_exporter": "python",
   "pygments_lexer": "ipython3",
   "version": "3.8.10"
  }
 },
 "nbformat": 4,
 "nbformat_minor": 5
}
